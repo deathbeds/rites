{
 "cells": [
  {
   "cell_type": "markdown",
   "id": "babfe637-322c-4458-bd4a-2228e17d6a02",
   "metadata": {},
   "source": [
    "# about `pidgy`\n",
    "\n",
    "`pidgy` is based on some white space aware simple heuristics that translate markdown line-for-line top valid python.\n",
    "from this provides literate programming and computing tools that enhance our abilities to talk about\n",
    "code in `jupyter`.\n",
    "\n",
    "`pidgy` an extension of the `IPython` interactive shell with designs that provide abilities to tangle and weave narrative during interactive compute."
   ]
  },
  {
   "cell_type": "code",
   "execution_count": 1,
   "id": "86e6a955-13cc-4e46-ab49-8d3af58a010c",
   "metadata": {},
   "outputs": [
    {
     "data": {
      "text/markdown": [
       "## `pidgy`s design\n",
       "\n",
       "### line for line translation"
      ],
      "text/plain": [
       "<IPython.core.display.Markdown object>"
      ]
     },
     "metadata": {},
     "output_type": "display_data"
    }
   ],
   "source": [
    "## `pidgy`s design\n",
    "\n",
    "### line for line translation"
   ]
  },
  {
   "cell_type": "code",
   "execution_count": 2,
   "id": "c026e8a9-2b18-46dd-9847-121c3d0c0c77",
   "metadata": {},
   "outputs": [
    {
     "data": {
      "text/markdown": [
       "## `pidgy` opinions\n",
       "\n",
       "* you always have access to `shell`\n",
       "* anything in `sys.modules` is available in the namespace\n",
       "* `emoji` are a another mode of naming and meaning"
      ],
      "text/plain": [
       "<IPython.core.display.Markdown object>"
      ]
     },
     "metadata": {},
     "output_type": "display_data"
    }
   ],
   "source": [
    "## `pidgy` opinions\n",
    "\n",
    "* you always have access to `shell`\n",
    "* anything in `sys.modules` is available in the namespace\n",
    "* `emoji` are a another mode of naming and meaning"
   ]
  },
  {
   "cell_type": "code",
   "execution_count": 3,
   "id": "0482375c-e670-480e-b09c-b4daf3fe9ebd",
   "metadata": {},
   "outputs": [
    {
     "data": {
      "text/markdown": [
       "## `pidgy`s philosophy\n",
       "\n",
       "---\n",
       "---\n",
       "\n",
       "> There is, finally between science and literature, a third margin\n",
       "which science must reconquer, that of pleasure.\n",
       "\n",
       ">> * [roland barthes] [science vs literature]\n",
       "\n",
       "---\n",
       "\n",
       "> My hope is that the ability to make explanations more natural will cause \n",
       "> more programmers to discover the joys of literate programming, \n",
       "> because I believe it’s quite a pleasure to combine verbal and mathematical skills; \n",
       "> but perhaps I’m hoping for too much.\n",
       "\n",
       ">> * [donald knuth] [literate programming]\n",
       "\n",
       "---\n",
       "---\n",
       "\n",
       "the design of `pidgy` is informed by experiences\n",
       "in composing literate programs as computational notebooks with`jupyter` and the `IPython` kernel.\n",
       "the modifications made by `pidgy` are based on open standards and common opinions.\n",
       "\n",
       "1. restart and run all or it didn't happen\n",
       "2. writing programs should be a fun experience\n",
       "3. reading programs should be a fun experience"
      ],
      "text/plain": [
       "<IPython.core.display.Markdown object>"
      ]
     },
     "metadata": {},
     "output_type": "display_data"
    }
   ],
   "source": [
    "## `pidgy`s philosophy\n",
    "\n",
    "---\n",
    "---\n",
    "\n",
    "> There is, finally between science and literature, a third margin\n",
    "which science must reconquer, that of pleasure.\n",
    "\n",
    ">> * [roland barthes] [science vs literature]\n",
    "\n",
    "---\n",
    "\n",
    "> My hope is that the ability to make explanations more natural will cause \n",
    "> more programmers to discover the joys of literate programming, \n",
    "> because I believe it’s quite a pleasure to combine verbal and mathematical skills; \n",
    "> but perhaps I’m hoping for too much.\n",
    "\n",
    ">> * [donald knuth] [literate programming]\n",
    "\n",
    "---\n",
    "---\n",
    "\n",
    "the design of `pidgy` is informed by experiences\n",
    "in composing literate programs as computational notebooks with`jupyter` and the `IPython` kernel.\n",
    "the modifications made by `pidgy` are based on open standards and common opinions.\n",
    "\n",
    "1. restart and run all or it didn't happen\n",
    "2. writing programs should be a fun experience\n",
    "3. reading programs should be a fun experience"
   ]
  },
  {
   "cell_type": "code",
   "execution_count": 4,
   "id": "3f068fd6-c19f-4782-878e-ca945f9d8887",
   "metadata": {},
   "outputs": [
    {
     "data": {
      "text/markdown": [
       "### restart and run all or it didn't happen\n",
       "\n",
       ">  By coining the phrase “literate programming,” I am imposing a moral commitment\n",
       "on everyone who hears the term; surely nobody wants\n",
       "to admit writing an illiterate program.\n",
       ">> * [donald knuth] [literate programming]\n",
       "\n",
       "warning: y'all are going to get tired of reading __restart and run all__ soon.\n",
       "\n",
       "for both programs and literature there is an expectation that either audience, the compiler\n",
       "or reader, recieves a document that sufficiently literate from beginning to end. the same \n",
       "practice should be brough forth to notebooks, and is when we practice literate programming.\n",
       "in `pidgy`, we consider programs that _restart and run all_ to be literate, otherwise they\n",
       "are non-yet-literate and in need of editting.\n",
       "\n",
       "contemporary notebooks authors lack any guidance or best practices for composition, they\n",
       "lack a zen of python/numpy. it is challenging to provide general guidance to\n",
       "`jupyter`s incredibly large audience.\n",
       "\n",
       "one constraint that could apply generally is that *a literate notebook will __restart and run all__*.\n",
       "this constraint can bound an idea and mitigate unmanageable notebooks by giving focus. \n",
       "\n",
       "after reading this, you're making a moral commitement to write notebooks that __restart and run all__."
      ],
      "text/plain": [
       "<IPython.core.display.Markdown object>"
      ]
     },
     "metadata": {},
     "output_type": "display_data"
    }
   ],
   "source": [
    "### restart and run all or it didn't happen\n",
    "\n",
    ">  By coining the phrase “literate programming,” I am imposing a moral commitment\n",
    "on everyone who hears the term; surely nobody wants\n",
    "to admit writing an illiterate program.\n",
    ">> * [donald knuth] [literate programming]\n",
    "\n",
    "warning: y'all are going to get tired of reading __restart and run all__ soon.\n",
    "\n",
    "for both programs and literature there is an expectation that either audience, the compiler\n",
    "or reader, recieves a document that sufficiently literate from beginning to end. the same \n",
    "practice should be brough forth to notebooks, and is when we practice literate programming.\n",
    "in `pidgy`, we consider programs that _restart and run all_ to be literate, otherwise they\n",
    "are non-yet-literate and in need of editting.\n",
    "\n",
    "contemporary notebooks authors lack any guidance or best practices for composition, they\n",
    "lack a zen of python/numpy. it is challenging to provide general guidance to\n",
    "`jupyter`s incredibly large audience.\n",
    "\n",
    "one constraint that could apply generally is that *a literate notebook will __restart and run all__*.\n",
    "this constraint can bound an idea and mitigate unmanageable notebooks by giving focus. \n",
    "\n",
    "after reading this, you're making a moral commitement to write notebooks that __restart and run all__."
   ]
  },
  {
   "cell_type": "code",
   "execution_count": 5,
   "id": "5e43ac32-c11c-468d-a029-875c2d74c412",
   "metadata": {},
   "outputs": [
    {
     "data": {
      "text/markdown": [
       "### writing programs should be a fun experience\n",
       "\n",
       "> 10. Get into a rut early: Do the same process the same way. Accumulate idioms. Standardize. The only difference(!) between Shakespeare and you was the size of his idiom list - not the size of his vocabulary. \n",
       ">> alan perlis epigrams for programming\n",
       "\n",
       "1. naming is hard if you let it be\n",
       "2. .500 or better\n",
       "3. restart and run all\n",
       "\n",
       "programming is known for obfuscation, patterns are hidden in coded languages, \n",
       "and we cross our fingers that the outcome of a program is meaningful. \n",
       "literate programming brings clarity to coded languages by using narrative as a device\n",
       "to bring meaning to the obscure and formless. in literate programs, programs are measured by \n",
       "both their literary and computational qualities.\n",
       "\n",
       "when we are reading we are not writing. `pidgy` encourages living in the writing experience.\n",
       "while writing, focus on your duties as a writer. there will always be more to write about.\n",
       "`pidgy` wants you to put yourself in your writing."
      ],
      "text/plain": [
       "<IPython.core.display.Markdown object>"
      ]
     },
     "metadata": {},
     "output_type": "display_data"
    }
   ],
   "source": [
    "### writing programs should be a fun experience\n",
    "\n",
    "> 10. Get into a rut early: Do the same process the same way. Accumulate idioms. Standardize. The only difference(!) between Shakespeare and you was the size of his idiom list - not the size of his vocabulary. \n",
    ">> alan perlis epigrams for programming\n",
    "\n",
    "1. naming is hard if you let it be\n",
    "2. .500 or better\n",
    "3. restart and run all\n",
    "\n",
    "programming is known for obfuscation, patterns are hidden in coded languages, \n",
    "and we cross our fingers that the outcome of a program is meaningful. \n",
    "literate programming brings clarity to coded languages by using narrative as a device\n",
    "to bring meaning to the obscure and formless. in literate programs, programs are measured by \n",
    "both their literary and computational qualities.\n",
    "\n",
    "when we are reading we are not writing. `pidgy` encourages living in the writing experience.\n",
    "while writing, focus on your duties as a writer. there will always be more to write about.\n",
    "`pidgy` wants you to put yourself in your writing."
   ]
  },
  {
   "cell_type": "code",
   "execution_count": 6,
   "id": "2ffaa3bb-28fc-466f-87f5-39de1cacf6d7",
   "metadata": {},
   "outputs": [
    {
     "data": {
      "text/markdown": [
       "### reading programs should be a fun experience\n",
       "\n",
       "> after writing literate programs and understanding its history i now believe:\n",
       ">\n",
       "> 1. there is no such thing as readable code\n",
       "> 2. pseudocode is fiction\n",
       "> 3. scientific literature without code is fan fiction"
      ],
      "text/plain": [
       "<IPython.core.display.Markdown object>"
      ]
     },
     "metadata": {},
     "output_type": "display_data"
    }
   ],
   "source": [
    "### reading programs should be a fun experience\n",
    "\n",
    "> after writing literate programs and understanding its history i now believe:\n",
    ">\n",
    "> 1. there is no such thing as readable code\n",
    "> 2. pseudocode is fiction\n",
    "> 3. scientific literature without code is fan fiction"
   ]
  },
  {
   "cell_type": "code",
   "execution_count": 7,
   "id": "58eec780-f2b7-4e68-889c-31f4acb43fb8",
   "metadata": {},
   "outputs": [
    {
     "data": {
      "text/markdown": [
       "#### there is no such thing as readable code\n",
       "\n",
       "> 10. Get into a rut early: Do the same process the same way. Accumulate idioms. Standardize. The only difference(!) between Shakespeare and you was the size of his idiom list - not the size of his vocabulary. \n",
       ">> alan perlis epigrams for programming\n",
       "\n",
       "it is possible to write idiomatic code, but not readable code. with `pidgy` we encourage you to \n",
       "write programs you want to to read."
      ],
      "text/plain": [
       "<IPython.core.display.Markdown object>"
      ]
     },
     "metadata": {},
     "output_type": "display_data"
    }
   ],
   "source": [
    "#### there is no such thing as readable code\n",
    "\n",
    "> 10. Get into a rut early: Do the same process the same way. Accumulate idioms. Standardize. The only difference(!) between Shakespeare and you was the size of his idiom list - not the size of his vocabulary. \n",
    ">> alan perlis epigrams for programming\n",
    "\n",
    "it is possible to write idiomatic code, but not readable code. with `pidgy` we encourage you to \n",
    "write programs you want to to read."
   ]
  },
  {
   "cell_type": "code",
   "execution_count": 8,
   "id": "ac73c27e-cb6e-441f-ab1f-c3f1483cc44d",
   "metadata": {},
   "outputs": [
    {
     "data": {
      "text/markdown": [
       "#### pseudocode is fiction\n",
       "\n",
       "after enough practice at literate programming you'll \n",
       "learn to simulataneously program and write stories about it.\n",
       "once you reach this vista, pseudocode becomes a bizarre concept\n",
       "because with enough learning real, working examples can be\n",
       "created in the same time it would take to compose some other\n",
       "pseudocode.\n",
       "\n",
       "in literate programs, code can become the subject of a document and \n",
       "brings us to the realm of non-fiction. combining non-fiction with ability to __restart and run all__\n",
       "presents a robust form for scientific literature."
      ],
      "text/plain": [
       "<IPython.core.display.Markdown object>"
      ]
     },
     "metadata": {},
     "output_type": "display_data"
    }
   ],
   "source": [
    "#### pseudocode is fiction\n",
    "\n",
    "after enough practice at literate programming you'll \n",
    "learn to simulataneously program and write stories about it.\n",
    "once you reach this vista, pseudocode becomes a bizarre concept\n",
    "because with enough learning real, working examples can be\n",
    "created in the same time it would take to compose some other\n",
    "pseudocode.\n",
    "\n",
    "in literate programs, code can become the subject of a document and \n",
    "brings us to the realm of non-fiction. combining non-fiction with ability to __restart and run all__\n",
    "presents a robust form for scientific literature."
   ]
  },
  {
   "cell_type": "code",
   "execution_count": 9,
   "id": "ea594250-805f-44cb-ac12-9c60e3cc4dd1",
   "metadata": {},
   "outputs": [
    {
     "data": {
      "text/markdown": [
       "#### scientific literature without code is fan fiction\n",
       "\n",
       "in our post-post-modern condition, the meaning and the model are the message. \n",
       "traditional hot and cold media forms now have a thermostat \n",
       "that let your control your media input with your nearest IOT device.\n",
       "nevertheless, reproducability is a central tenet of science, the old forms\n",
       "literature are failing us and bringing a reproducability crisis.\n",
       "\n",
       "traditional publishing forms are being subverted by the need for reproducible science through more\n",
       "open communication and publishing strategies. this transition is bringing new narrative\n",
       "forms to broad audiences, specifically scientists who could generate more meaning from\n",
       "their writing with modern open source literary practices.\n",
       "\n",
       "the new narrative forms do not prefer any specific language, aligning with a feature of good science\n",
       "that it transcends languages. the new scientific literature is a collection of fragments. \n",
       "the parts are abstract pieces that take meaning through composition and their relative positions.\n",
       "\n",
       "with literate programs we have the ability to bring language to code, and code to language, \n",
       "there are two outs. we can constantly update the composition of these nonmaterial forms at will.\n",
       "each new conformation will reveals a different project of a thing.\n",
       "\n",
       "`pidgy` brings new compositional qualities to the `notebook` \n",
       "while not deviating far from accepted conventions. the `pidgy` metalanguage\n",
       "is ripe for experimentation and fun."
      ],
      "text/plain": [
       "<IPython.core.display.Markdown object>"
      ]
     },
     "metadata": {},
     "output_type": "display_data"
    }
   ],
   "source": [
    "#### scientific literature without code is fan fiction\n",
    "\n",
    "in our post-post-modern condition, the meaning and the model are the message. \n",
    "traditional hot and cold media forms now have a thermostat \n",
    "that let your control your media input with your nearest IOT device.\n",
    "nevertheless, reproducability is a central tenet of science, the old forms\n",
    "literature are failing us and bringing a reproducability crisis.\n",
    "\n",
    "traditional publishing forms are being subverted by the need for reproducible science through more\n",
    "open communication and publishing strategies. this transition is bringing new narrative\n",
    "forms to broad audiences, specifically scientists who could generate more meaning from\n",
    "their writing with modern open source literary practices.\n",
    "\n",
    "the new narrative forms do not prefer any specific language, aligning with a feature of good science\n",
    "that it transcends languages. the new scientific literature is a collection of fragments. \n",
    "the parts are abstract pieces that take meaning through composition and their relative positions.\n",
    "\n",
    "with literate programs we have the ability to bring language to code, and code to language, \n",
    "there are two outs. we can constantly update the composition of these nonmaterial forms at will.\n",
    "each new conformation will reveals a different project of a thing.\n",
    "\n",
    "`pidgy` brings new compositional qualities to the `notebook` \n",
    "while not deviating far from accepted conventions. the `pidgy` metalanguage\n",
    "is ripe for experimentation and fun."
   ]
  },
  {
   "cell_type": "code",
   "execution_count": null,
   "id": "20330858-3c7a-47f7-a72a-926d171a58f6",
   "metadata": {},
   "outputs": [],
   "source": []
  }
 ],
 "metadata": {
  "kernelspec": {
   "display_name": "pidgy 3",
   "language": "python",
   "name": "pidgy"
  },
  "language_info": {
   "codemirror_mode": {
    "name": "ipython",
    "version": 3
   },
   "file_extension": ".py",
   "mimetype": "text/x-python",
   "name": "python",
   "nbconvert_exporter": "python",
   "pygments_lexer": "ipython3",
   "version": "3.7.7"
  }
 },
 "nbformat": 4,
 "nbformat_minor": 5
}
