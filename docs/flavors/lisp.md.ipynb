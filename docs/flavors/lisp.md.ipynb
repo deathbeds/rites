{
 "cells": [
  {
   "cell_type": "markdown",
   "id": "d6a7a992-5c0b-478c-a70b-103271d35e27",
   "metadata": {},
   "source": [
    "# literate lisp"
   ]
  },
  {
   "cell_type": "code",
   "execution_count": 1,
   "id": "b026eb42-4179-477d-81a0-cbf83315bd90",
   "metadata": {},
   "outputs": [
    {
     "data": {
      "text/markdown": [
       "besides the conventional markdown to mode, `pidgy` provides, through `hy`, a python forward literate lisp writing as markdown.\n",
       "lisp languages are recognized by a sea of parenthesis.\n",
       "when `pidgy` literate code cells begin and end with parenthesiss the `hy` compiler is invoked.\n",
       "\n",
       "there are no special heuristics because lisp is not whitespace aware. you will be responsible for your own quotes and strings."
      ],
      "text/plain": [
       "<IPython.core.display.Markdown object>"
      ]
     },
     "metadata": {},
     "output_type": "display_data"
    }
   ],
   "source": [
    "besides the conventional markdown to mode, `pidgy` provides, through `hy`, a python forward literate lisp writing as markdown.\n",
    "lisp languages are recognized by a sea of parenthesis.\n",
    "when `pidgy` literate code cells begin and end with parenthesiss the `hy` compiler is invoked.\n",
    "\n",
    "there are no special heuristics because lisp is not whitespace aware. you will be responsible for your own quotes and strings."
   ]
  },
  {
   "cell_type": "code",
   "execution_count": 2,
   "id": "d8c7fc6f-37f3-4b66-a3af-4a0cc9f02470",
   "metadata": {},
   "outputs": [
    {
     "data": {
      "text/markdown": [
       "this __string__ *with* ~~markdown~~ features is printed"
      ],
      "text/plain": [
       "<IPython.core.display.Markdown object>"
      ]
     },
     "metadata": {},
     "output_type": "display_data"
    },
    {
     "data": {
      "text/markdown": [
       "    (setv a-lispy-string (str.strip \"\n",
       "     \n",
       "this __string__ *with* ~~markdown~~ features is printed\n",
       "     \n",
       "    \"))\n",
       "    (display (.display.Markdown (__import__ \"IPython\") a-lispy-string))"
      ],
      "text/plain": [
       "<IPython.core.display.Markdown object>"
      ]
     },
     "metadata": {},
     "output_type": "display_data"
    }
   ],
   "source": [
    "    (setv a-lispy-string (str.strip \"\n",
    "     \n",
    "this __string__ *with* ~~markdown~~ features is printed\n",
    "     \n",
    "    \"))\n",
    "    (display (.display.Markdown (__import__ \"IPython\") a-lispy-string))"
   ]
  },
  {
   "cell_type": "code",
   "execution_count": 3,
   "id": "3a93a645-bff9-48b9-902c-6447b6c2d4ce",
   "metadata": {},
   "outputs": [
    {
     "data": {
      "text/markdown": [
       "you can learn more about `hy` and its syntax from the [their documentation]. \n",
       "from the position of `pidgy`, literate lisp-y python is highly experimental, but can\n",
       "likely yield some wonderful outcomes as a metalangage through enough practice and play."
      ],
      "text/plain": [
       "<IPython.core.display.Markdown object>"
      ]
     },
     "metadata": {},
     "output_type": "display_data"
    }
   ],
   "source": [
    "you can learn more about `hy` and its syntax from the [their documentation]. \n",
    "from the position of `pidgy`, literate lisp-y python is highly experimental, but can\n",
    "likely yield some wonderful outcomes as a metalangage through enough practice and play."
   ]
  },
  {
   "cell_type": "code",
   "execution_count": null,
   "id": "450a912c-5567-47cb-ac5a-d0eee202ac7e",
   "metadata": {},
   "outputs": [],
   "source": []
  }
 ],
 "metadata": {
  "kernelspec": {
   "display_name": "pidgy 3",
   "language": "python",
   "name": "pidgy"
  },
  "language_info": {
   "codemirror_mode": {
    "name": "ipython",
    "version": 3
   },
   "file_extension": ".py",
   "mimetype": "text/x-python",
   "name": "python",
   "nbconvert_exporter": "python",
   "pygments_lexer": "ipython3",
   "version": "3.7.7"
  }
 },
 "nbformat": 4,
 "nbformat_minor": 5
}
