{
 "cells": [
  {
   "cell_type": "markdown",
   "id": "03f3043e-bc2e-4f1e-be01-fd5e8ddb735e",
   "metadata": {},
   "source": [
    "# pidgy notebooks"
   ]
  },
  {
   "cell_type": "code",
   "execution_count": 1,
   "id": "536ada04-aa14-428e-a899-ac6e7a063bc0",
   "metadata": {},
   "outputs": [
    {
     "data": {
      "text/markdown": [
       "`pidgy` notebooks using the `pidgy` shell bear the `.md.ipynb` file extension. \n",
       "while notebooks, using the `pidgy` extension - `%load_ext pidgy` -  will have the typical \".ipynb\" extension.\n",
       "\n",
       "this extension indicates that the primary language for the code cells are written in markdown.\n",
       "the `input` is translated to __python__ using the `pidgy.parser`.\n",
       "\n",
       "the `pidgy` opinions has a big impact on the form conventional for of `jupyter` notebooks.\n",
       "out of the box, the `notebook` makes a distinction between markdown and code cells; only code cells are executed.\n",
       "in `pidgy` we turn code cells into __markdown cells that run__, and conventional markdown into __markdown cells that *don't* run.__\n",
       "this transformation allows for a deeper embedding of code and narrative.\n",
       "\n",
       "`pidgy` is a form literate computing that is to say interactive literate programming in markdown with a python shell."
      ],
      "text/plain": [
       "<IPython.core.display.Markdown object>"
      ]
     },
     "metadata": {},
     "output_type": "display_data"
    }
   ],
   "source": [
    "`pidgy` notebooks using the `pidgy` shell bear the `.md.ipynb` file extension. \n",
    "while notebooks, using the `pidgy` extension - `%load_ext pidgy` -  will have the typical \".ipynb\" extension.\n",
    "\n",
    "this extension indicates that the primary language for the code cells are written in markdown.\n",
    "the `input` is translated to __python__ using the `pidgy.parser`.\n",
    "\n",
    "the `pidgy` opinions has a big impact on the form conventional for of `jupyter` notebooks.\n",
    "out of the box, the `notebook` makes a distinction between markdown and code cells; only code cells are executed.\n",
    "in `pidgy` we turn code cells into __markdown cells that run__, and conventional markdown into __markdown cells that *don't* run.__\n",
    "this transformation allows for a deeper embedding of code and narrative.\n",
    "\n",
    "`pidgy` is a form literate computing that is to say interactive literate programming in markdown with a python shell."
   ]
  },
  {
   "cell_type": "code",
   "execution_count": 2,
   "id": "7bf609b5-be2c-4e0c-9e32-e3adecf2b0cf",
   "metadata": {},
   "outputs": [
    {
     "data": {
      "text/markdown": [
       "## notebook expectations"
      ],
      "text/plain": [
       "<IPython.core.display.Markdown object>"
      ]
     },
     "metadata": {},
     "output_type": "display_data"
    }
   ],
   "source": [
    "## notebook expectations"
   ]
  },
  {
   "cell_type": "code",
   "execution_count": 3,
   "id": "695d9ff4-d94d-4535-ba1d-06b1f7d81edc",
   "metadata": {},
   "outputs": [
    {
     "data": {
      "text/markdown": [
       "it is possible to just write markdown, \n",
       "\n",
       "* like\n",
       "* any\n",
       "\n",
       "1. markdown \n",
       "2. you \n",
       "3. want"
      ],
      "text/plain": [
       "<IPython.core.display.Markdown object>"
      ]
     },
     "metadata": {},
     "output_type": "display_data"
    }
   ],
   "source": [
    "it is possible to just write markdown, \n",
    "\n",
    "* like\n",
    "* any\n",
    "\n",
    "1. markdown \n",
    "2. you \n",
    "3. want"
   ]
  },
  {
   "cell_type": "code",
   "execution_count": 4,
   "id": "ee2e8ab1-73a1-4a70-a1ca-f508f547b930",
   "metadata": {},
   "outputs": [
    {
     "name": "stdout",
     "output_type": "stream",
     "text": [
      "when we find indented code object, we'll finally start talking __python__ through `IPython`\n",
      "\n",
      "---\n"
     ]
    },
    {
     "data": {
      "text/markdown": [
       "this don't get interesting until we find indented code.\n",
       "\n",
       "    print(\n",
       "    \n",
       "when we find indented code object, we'll finally start talking __python__ through `IPython`\n",
       "    \n",
       "---\n",
       "        \n",
       "    )\n",
       "    \n",
       "this cell is going to return a printed result, \n",
       "but `print` is used as a reference to create valid python from markdown source"
      ],
      "text/plain": [
       "<IPython.core.display.Markdown object>"
      ]
     },
     "metadata": {},
     "output_type": "display_data"
    }
   ],
   "source": [
    "this don't get interesting until we find indented code.\n",
    "\n",
    "    print(\n",
    "    \n",
    "when we find indented code object, we'll finally start talking __python__ through `IPython`\n",
    "    \n",
    "---\n",
    "        \n",
    "    )\n",
    "    \n",
    "this cell is going to return a printed result, \n",
    "but `print` is used as a reference to create valid python from markdown source"
   ]
  },
  {
   "cell_type": "code",
   "execution_count": 5,
   "id": "7917dc01-27c6-4c2f-9883-71925e18a9c0",
   "metadata": {},
   "outputs": [
    {
     "data": {
      "text/markdown": [
       "## top level `return` statements\n",
       "\n",
       "`pidgy` allows for top-level return statements, like the existing top level `await` statements,\n",
       "the contents of which is passed to the `IPython` display.\n",
       "typically, the syntax is invalid which to interactive computing is an opportunity. "
      ],
      "text/plain": [
       "<IPython.core.display.Markdown object>"
      ]
     },
     "metadata": {},
     "output_type": "display_data"
    }
   ],
   "source": [
    "## top level `return` statements\n",
    "\n",
    "`pidgy` allows for top-level return statements, like the existing top level `await` statements,\n",
    "the contents of which is passed to the `IPython` display.\n",
    "typically, the syntax is invalid which to interactive computing is an opportunity. "
   ]
  },
  {
   "cell_type": "code",
   "execution_count": 6,
   "id": "03591320-0dbd-47ef-9730-d17e45398251",
   "metadata": {},
   "outputs": [
    {
     "data": {
      "text/markdown": [
       "> a caption for the table below"
      ],
      "text/plain": [
       "<IPython.core.display.Markdown object>"
      ]
     },
     "metadata": {},
     "output_type": "display_data"
    },
    {
     "data": {
      "text/html": [
       "<div>\n",
       "<style scoped>\n",
       "    .dataframe tbody tr th:only-of-type {\n",
       "        vertical-align: middle;\n",
       "    }\n",
       "\n",
       "    .dataframe tbody tr th {\n",
       "        vertical-align: top;\n",
       "    }\n",
       "\n",
       "    .dataframe thead th {\n",
       "        text-align: right;\n",
       "    }\n",
       "</style>\n",
       "<table border=\"1\" class=\"dataframe\">\n",
       "  <thead>\n",
       "    <tr style=\"text-align: right;\">\n",
       "      <th></th>\n",
       "      <th>a</th>\n",
       "    </tr>\n",
       "  </thead>\n",
       "  <tbody>\n",
       "    <tr>\n",
       "      <th>0</th>\n",
       "      <td>1</td>\n",
       "    </tr>\n",
       "  </tbody>\n",
       "</table>\n",
       "</div>"
      ],
      "text/plain": [
       "   a\n",
       "0  1"
      ]
     },
     "metadata": {},
     "output_type": "display_data"
    },
    {
     "data": {
      "text/markdown": [
       "---\n",
       "\n",
       "lets say we have a table we want to position a markdown caption above.\n",
       "\n",
       "    md =\\\n",
       "> a caption for the table below\n",
       "    \n",
       "    table = __import__(\"pandas\").DataFrame(dict(a=[1]))\n",
       "    \n",
       "exposes `return` to the top-level, as an IPython display lets us compose the outcome of our cell.\n",
       "    \n",
       "    return __import__(\"IPython\").display.Markdown(md), table\n"
      ],
      "text/plain": [
       "<IPython.core.display.Markdown object>"
      ]
     },
     "metadata": {},
     "output_type": "display_data"
    }
   ],
   "source": [
    "---\n",
    "\n",
    "lets say we have a table we want to position a markdown caption above.\n",
    "\n",
    "    md =\\\n",
    "> a caption for the table below\n",
    "    \n",
    "    table = __import__(\"pandas\").DataFrame(dict(a=[1]))\n",
    "    \n",
    "exposes `return` to the top-level, as an IPython display lets us compose the outcome of our cell.\n",
    "    \n",
    "    return __import__(\"IPython\").display.Markdown(md), table\n"
   ]
  }
 ],
 "metadata": {
  "kernelspec": {
   "display_name": "pidgy 3",
   "language": "python",
   "name": "pidgy"
  },
  "language_info": {
   "codemirror_mode": {
    "name": "ipython",
    "version": 3
   },
   "file_extension": ".py",
   "mimetype": "text/x-python",
   "name": "python",
   "nbconvert_exporter": "python",
   "pygments_lexer": "ipython3",
   "version": "3.7.7"
  }
 },
 "nbformat": 4,
 "nbformat_minor": 5
}
